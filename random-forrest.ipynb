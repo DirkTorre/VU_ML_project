{
 "cells": [
  {
   "cell_type": "markdown",
   "id": "partial-portuguese",
   "metadata": {},
   "source": [
    "https://towardsdatascience.com/random-forest-in-python-24d0893d51c0"
   ]
  },
  {
   "cell_type": "markdown",
   "id": "difficult-defendant",
   "metadata": {},
   "source": [
    "# 0 import data"
   ]
  },
  {
   "cell_type": "code",
   "execution_count": 1,
   "id": "composite-output",
   "metadata": {},
   "outputs": [],
   "source": [
    "import pandas as pd\n",
    "import numpy as np\n",
    "from sklearn.model_selection import train_test_split"
   ]
  },
  {
   "cell_type": "code",
   "execution_count": 2,
   "id": "complete-jersey",
   "metadata": {},
   "outputs": [],
   "source": [
    "path_to_test_data=\"/home/user/Documents/studies/master/vu - systeembio master/modules/04 Machine Learning/project/project output data/\"\n",
    "\n",
    "# start data raw features and target\n",
    "sd = {}\n",
    "sd[\"rf\"] = pd.read_csv(path_to_test_data+\"x_train.csv\")\n",
    "sd[\"rt\"] = pd.read_csv(path_to_test_data+\"y_train.csv\")\n",
    "sd[\"features\"] = sd[\"rf\"].columns.to_list()"
   ]
  },
  {
   "cell_type": "code",
   "execution_count": 3,
   "id": "monetary-giving",
   "metadata": {},
   "outputs": [
    {
     "data": {
      "text/plain": [
       "(64891, 233)"
      ]
     },
     "execution_count": 3,
     "metadata": {},
     "output_type": "execute_result"
    }
   ],
   "source": [
    "sd[\"rf\"].shape"
   ]
  },
  {
   "cell_type": "code",
   "execution_count": 4,
   "id": "third-cooling",
   "metadata": {},
   "outputs": [
    {
     "data": {
      "text/plain": [
       "<bound method NDFrame.describe of        year  duration  published_year  published_month  published_day  \\\n",
       "0      1981       103            1981                9              3   \n",
       "1      1994        81            1994                9             20   \n",
       "2      2019       117            2019                6             18   \n",
       "3      2012        86            2014                1             15   \n",
       "4      1993       101            1993               12             21   \n",
       "...     ...       ...             ...              ...            ...   \n",
       "64886  2002       168            2002               10             10   \n",
       "64887  1980        95            1980               12             15   \n",
       "64888  2012       115            2012                4             13   \n",
       "64889  1977       135            1977                8              6   \n",
       "64890  2012        86            2012                8              3   \n",
       "\n",
       "       genre_Sport  genre_Reality-TV  genre_Comedy  genre_Musical  \\\n",
       "0                0                 0             0              0   \n",
       "1                0                 0             0              0   \n",
       "2                0                 0             0              0   \n",
       "3                0                 0             1              0   \n",
       "4                0                 0             0              0   \n",
       "...            ...               ...           ...            ...   \n",
       "64886            0                 0             0              0   \n",
       "64887            0                 0             1              0   \n",
       "64888            0                 0             0              0   \n",
       "64889            0                 0             0              0   \n",
       "64890            0                 0             1              0   \n",
       "\n",
       "       genre_Film-Noir  ...  language_English  language_other  \\\n",
       "0                    0  ...                 1               0   \n",
       "1                    0  ...                 0               0   \n",
       "2                    0  ...                 0               0   \n",
       "3                    0  ...                 1               0   \n",
       "4                    0  ...                 1               0   \n",
       "...                ...  ...               ...             ...   \n",
       "64886                0  ...                 0               0   \n",
       "64887                0  ...                 0               0   \n",
       "64888                0  ...                 1               0   \n",
       "64889                0  ...                 0               0   \n",
       "64890                0  ...                 0               0   \n",
       "\n",
       "       common_director  common_writer  actors_A  actors_B  actors_C  actors_D  \\\n",
       "0                    1              0         0         0         0        12   \n",
       "1                    1              0         0         0         0         0   \n",
       "2                    0              0         0         0         9         6   \n",
       "3                    0              0         0         0         0         2   \n",
       "4                    1              0         0         0         0        12   \n",
       "...                ...            ...       ...       ...       ...       ...   \n",
       "64886                0              1         0         0         3         8   \n",
       "64887                0              0         0         1        12         0   \n",
       "64888                0              0         0         0         0         3   \n",
       "64889                0              0         0         0         8         7   \n",
       "64890                0              0         0         0         0        10   \n",
       "\n",
       "       actors_E  actors_F  \n",
       "0             3         0  \n",
       "1             0         5  \n",
       "2             0         0  \n",
       "3            13         0  \n",
       "4             3         0  \n",
       "...         ...       ...  \n",
       "64886         4         0  \n",
       "64887         0         0  \n",
       "64888        12         0  \n",
       "64889         0         0  \n",
       "64890         5         0  \n",
       "\n",
       "[64891 rows x 233 columns]>"
      ]
     },
     "execution_count": 4,
     "metadata": {},
     "output_type": "execute_result"
    }
   ],
   "source": [
    "sd[\"rf\"].describe"
   ]
  },
  {
   "cell_type": "markdown",
   "id": "studied-massage",
   "metadata": {},
   "source": [
    "# 1 split data in train and validation set"
   ]
  },
  {
   "cell_type": "code",
   "execution_count": 5,
   "id": "angry-sacramento",
   "metadata": {},
   "outputs": [],
   "source": [
    "# split data and train features and test labels and test labels and test fearures\n",
    "spld = {}\n",
    "spld[\"trf\"], spld[\"tef\"], spld[\"trl\"], spld[\"tel\"] = train_test_split(sd[\"rf\"], sd[\"rt\"], test_size = 0.25, random_state = 42)"
   ]
  },
  {
   "cell_type": "code",
   "execution_count": 6,
   "id": "sorted-benefit",
   "metadata": {},
   "outputs": [
    {
     "name": "stdout",
     "output_type": "stream",
     "text": [
      "Training Features Shape: (48668, 233)\n",
      "Training Labels Shape: (48668, 1)\n",
      "Testing Features Shape: (16223, 233)\n",
      "Testing Labels Shape: (16223, 1)\n"
     ]
    }
   ],
   "source": [
    "print('Training Features Shape:', spld[\"trf\"].shape)\n",
    "print('Training Labels Shape:', spld[\"trl\"].shape)\n",
    "print('Testing Features Shape:', spld[\"tef\"].shape)\n",
    "print('Testing Labels Shape:', spld[\"tel\"].shape)"
   ]
  },
  {
   "cell_type": "markdown",
   "id": "harmful-monitoring",
   "metadata": {},
   "source": [
    "# 2 establish baseline"
   ]
  },
  {
   "cell_type": "code",
   "execution_count": 7,
   "id": "precious-adams",
   "metadata": {},
   "outputs": [],
   "source": [
    "# kunnen we nioet doen\n",
    "\n",
    "# # The baseline predictions are the historical averages\n",
    "# baseline_preds\n",
    "# # Baseline errors, and display average baseline error\n",
    "# baseline_errors = abs(baseline_preds - test_labels)\n",
    "# print('Average baseline error: ', round(np.mean(baseline_errors), 2))"
   ]
  },
  {
   "cell_type": "markdown",
   "id": "general-witch",
   "metadata": {},
   "source": [
    "# 3 train model"
   ]
  },
  {
   "cell_type": "code",
   "execution_count": 8,
   "id": "south-honey",
   "metadata": {},
   "outputs": [],
   "source": [
    "from sklearn.ensemble import RandomForestRegressor"
   ]
  },
  {
   "cell_type": "markdown",
   "id": "painted-harvey",
   "metadata": {},
   "source": [
    "n_estimators must be set to 1000<br>\n",
    "n_jobs musst be set on amount of threads that are free to use on your cpu."
   ]
  },
  {
   "cell_type": "code",
   "execution_count": 9,
   "id": "tested-blend",
   "metadata": {},
   "outputs": [
    {
     "data": {
      "text/plain": [
       "RandomForestRegressor(n_jobs=6, random_state=42)"
      ]
     },
     "execution_count": 9,
     "metadata": {},
     "output_type": "execute_result"
    }
   ],
   "source": [
    "# Instantiate model with 1000 decision trees\n",
    "rf = RandomForestRegressor(n_estimators = 100, random_state = 42, n_jobs=6)\n",
    "# Train the model on training data\n",
    "rf.fit(spld[\"trf\"], spld[\"trl\"][\"avg_vote\"].to_list())"
   ]
  },
  {
   "cell_type": "markdown",
   "id": "polar-distributor",
   "metadata": {},
   "source": [
    "1 thread<br>\n",
    "1000 trees: 23 min<br>\n",
    "100 trees: <2 min<br>\n",
    "<br>\n",
    "6 thread<br>\n",
    "1000 trees:<br>\n",
    "100 trees: 30 sec"
   ]
  },
  {
   "cell_type": "markdown",
   "id": "danish-toolbox",
   "metadata": {},
   "source": [
    "# 4 Make predictions on test set"
   ]
  },
  {
   "cell_type": "code",
   "execution_count": 10,
   "id": "important-wound",
   "metadata": {},
   "outputs": [
    {
     "name": "stdout",
     "output_type": "stream",
     "text": [
      "Mean Absolute Error: 0.39 degrees.\n"
     ]
    }
   ],
   "source": [
    "# Use the forest's predict method on the test data\n",
    "predictions = rf.predict(spld[\"tef\"])\n",
    "# Calculate the absolute errors\n",
    "errors = abs(predictions - spld[\"tel\"][\"avg_vote\"].to_list())\n",
    "# Print out the mean absolute error (mae)\n",
    "print('Mean Absolute Error:', round(np.mean(errors), 2), 'degrees.')"
   ]
  },
  {
   "cell_type": "markdown",
   "id": "empirical-monitoring",
   "metadata": {},
   "source": [
    "# 5 Determine preformance metrics "
   ]
  },
  {
   "cell_type": "code",
   "execution_count": 11,
   "id": "allied-netscape",
   "metadata": {},
   "outputs": [
    {
     "name": "stdout",
     "output_type": "stream",
     "text": [
      "Accuracy: 92.05 %.\n"
     ]
    }
   ],
   "source": [
    "# Calculate mean absolute percentage error (MAPE)\n",
    "mape = 100 * (errors / spld[\"tel\"][\"avg_vote\"].to_list())\n",
    "# Calculate and display accuracy\n",
    "accuracy = 100 - np.mean(mape)\n",
    "print('Accuracy:', round(accuracy, 2), '%.')"
   ]
  },
  {
   "cell_type": "markdown",
   "id": "liable-decline",
   "metadata": {},
   "source": [
    "# 6 Improve Model if Necessary"
   ]
  },
  {
   "cell_type": "markdown",
   "id": "swiss-income",
   "metadata": {},
   "source": [
    "not done for now"
   ]
  },
  {
   "cell_type": "markdown",
   "id": "general-savannah",
   "metadata": {},
   "source": [
    "# 7 Interpret Model and Report Results"
   ]
  },
  {
   "cell_type": "markdown",
   "id": "divine-trick",
   "metadata": {},
   "source": [
    "## 7.1 Visualizing a Single Decision Tree"
   ]
  },
  {
   "cell_type": "markdown",
   "id": "contained-fighter",
   "metadata": {},
   "source": [
    "werkt niet omdat pydot deze versie van python niet ondersteund."
   ]
  },
  {
   "cell_type": "code",
   "execution_count": 12,
   "id": "jewish-support",
   "metadata": {},
   "outputs": [],
   "source": [
    "# # Import tools needed for visualization\n",
    "# from sklearn.tree import export_graphviz\n",
    "# import pydot\n",
    "\n",
    "# # Pull out one tree from the forest\n",
    "# tree = rf.estimators_[5]\n",
    "\n",
    "# # Pull out one tree from the forest\n",
    "# tree = rf.estimators_[5]\n",
    "# # Export the image to a dot file\n",
    "# export_graphviz(tree, out_file = 'tree.dot', feature_names = feature_list, rounded = True, precision = 1)\n",
    "# # Use dot file to create a graph\n",
    "# (graph, ) = pydot.graph_from_dot_file('tree.dot')\n",
    "# # Write graph to a png file\n",
    "# graph.write_png('tree.png')"
   ]
  },
  {
   "cell_type": "markdown",
   "id": "injured-albany",
   "metadata": {},
   "source": [
    "## 7.2 Variable Importances"
   ]
  },
  {
   "cell_type": "code",
   "execution_count": 13,
   "id": "quiet-detective",
   "metadata": {},
   "outputs": [
    {
     "name": "stdout",
     "output_type": "stream",
     "text": [
      "Variable: actors_F             Importance: 0.56\n",
      "Variable: actors_C             Importance: 0.13\n",
      "Variable: actors_D             Importance: 0.06\n",
      "Variable: actors_E             Importance: 0.04\n",
      "Variable: duration             Importance: 0.03\n",
      "Variable: year                 Importance: 0.02\n",
      "Variable: published_year       Importance: 0.02\n",
      "Variable: published_month      Importance: 0.02\n",
      "Variable: published_day        Importance: 0.02\n",
      "Variable: country_USA          Importance: 0.01\n",
      "Variable: actors_B             Importance: 0.01\n",
      "Variable: genre_Sport          Importance: 0.0\n",
      "Variable: genre_Reality-TV     Importance: 0.0\n",
      "Variable: genre_Comedy         Importance: 0.0\n",
      "Variable: genre_Musical        Importance: 0.0\n",
      "Variable: genre_Film-Noir      Importance: 0.0\n",
      "Variable: genre_Western        Importance: 0.0\n",
      "Variable: genre_Fantasy        Importance: 0.0\n",
      "Variable: genre_News           Importance: 0.0\n",
      "Variable: genre_Biography      Importance: 0.0\n",
      "Variable: genre_Adventure      Importance: 0.0\n",
      "Variable: genre_War            Importance: 0.0\n",
      "Variable: genre_Mystery        Importance: 0.0\n",
      "Variable: genre_Sci-Fi         Importance: 0.0\n",
      "Variable: genre_Action         Importance: 0.0\n",
      "Variable: genre_Music          Importance: 0.0\n",
      "Variable: genre_Documentary    Importance: 0.0\n",
      "Variable: genre_Animation      Importance: 0.0\n",
      "Variable: genre_Drama          Importance: 0.0\n",
      "Variable: genre_Thriller       Importance: 0.0\n",
      "Variable: genre_Adult          Importance: 0.0\n",
      "Variable: genre_Horror         Importance: 0.0\n",
      "Variable: genre_Crime          Importance: 0.0\n",
      "Variable: genre_History        Importance: 0.0\n",
      "Variable: genre_Family         Importance: 0.0\n",
      "Variable: genre_Romance        Importance: 0.0\n",
      "Variable: country_Albania      Importance: 0.0\n",
      "Variable: country_Algeria      Importance: 0.0\n",
      "Variable: country_Argentina    Importance: 0.0\n",
      "Variable: country_Armenia      Importance: 0.0\n",
      "Variable: country_Australia    Importance: 0.0\n",
      "Variable: country_Austria      Importance: 0.0\n",
      "Variable: country_Bangladesh   Importance: 0.0\n",
      "Variable: country_Belgium      Importance: 0.0\n",
      "Variable: country_Bolivia      Importance: 0.0\n",
      "Variable: country_Bosnia and Herzegovina Importance: 0.0\n",
      "Variable: country_Brazil       Importance: 0.0\n",
      "Variable: country_Bulgaria     Importance: 0.0\n",
      "Variable: country_Cambodia     Importance: 0.0\n",
      "Variable: country_Canada       Importance: 0.0\n",
      "Variable: country_Chile        Importance: 0.0\n",
      "Variable: country_China        Importance: 0.0\n",
      "Variable: country_Colombia     Importance: 0.0\n",
      "Variable: country_Croatia      Importance: 0.0\n",
      "Variable: country_Cuba         Importance: 0.0\n",
      "Variable: country_Cyprus       Importance: 0.0\n",
      "Variable: country_Czech Republic Importance: 0.0\n",
      "Variable: country_Czechoslovakia Importance: 0.0\n",
      "Variable: country_Denmark      Importance: 0.0\n",
      "Variable: country_Dominican Republic Importance: 0.0\n",
      "Variable: country_East Germany Importance: 0.0\n",
      "Variable: country_Egypt        Importance: 0.0\n",
      "Variable: country_Estonia      Importance: 0.0\n",
      "Variable: country_Federal Republic of Yugoslavia Importance: 0.0\n",
      "Variable: country_Finland      Importance: 0.0\n",
      "Variable: country_France       Importance: 0.0\n",
      "Variable: country_Georgia      Importance: 0.0\n",
      "Variable: country_Germany      Importance: 0.0\n",
      "Variable: country_Greece       Importance: 0.0\n",
      "Variable: country_Hong Kong    Importance: 0.0\n",
      "Variable: country_Hungary      Importance: 0.0\n",
      "Variable: country_Iceland      Importance: 0.0\n",
      "Variable: country_India        Importance: 0.0\n",
      "Variable: country_Indonesia    Importance: 0.0\n",
      "Variable: country_Iran         Importance: 0.0\n",
      "Variable: country_Iraq         Importance: 0.0\n",
      "Variable: country_Ireland      Importance: 0.0\n",
      "Variable: country_Israel       Importance: 0.0\n",
      "Variable: country_Italy        Importance: 0.0\n",
      "Variable: country_Japan        Importance: 0.0\n",
      "Variable: country_Jordan       Importance: 0.0\n",
      "Variable: country_Kazakhstan   Importance: 0.0\n",
      "Variable: country_Korea        Importance: 0.0\n",
      "Variable: country_Latvia       Importance: 0.0\n",
      "Variable: country_Lebanon      Importance: 0.0\n",
      "Variable: country_Lithuania    Importance: 0.0\n",
      "Variable: country_Luxembourg   Importance: 0.0\n",
      "Variable: country_Malaysia     Importance: 0.0\n",
      "Variable: country_Malta        Importance: 0.0\n",
      "Variable: country_Mexico       Importance: 0.0\n",
      "Variable: country_Monaco       Importance: 0.0\n",
      "Variable: country_Montenegro   Importance: 0.0\n",
      "Variable: country_Morocco      Importance: 0.0\n",
      "Variable: country_Nepal        Importance: 0.0\n",
      "Variable: country_Netherlands  Importance: 0.0\n",
      "Variable: country_New Zealand  Importance: 0.0\n",
      "Variable: country_Niger        Importance: 0.0\n",
      "Variable: country_Nigeria      Importance: 0.0\n",
      "Variable: country_Norway       Importance: 0.0\n",
      "Variable: country_Pakistan     Importance: 0.0\n",
      "Variable: country_Palestine    Importance: 0.0\n",
      "Variable: country_Peru         Importance: 0.0\n",
      "Variable: country_Philippines  Importance: 0.0\n",
      "Variable: country_Poland       Importance: 0.0\n",
      "Variable: country_Portugal     Importance: 0.0\n",
      "Variable: country_Puerto Rico  Importance: 0.0\n",
      "Variable: country_Qatar        Importance: 0.0\n",
      "Variable: country_Republic of North Macedonia Importance: 0.0\n",
      "Variable: country_Romania      Importance: 0.0\n",
      "Variable: country_Russia       Importance: 0.0\n",
      "Variable: country_Senegal      Importance: 0.0\n",
      "Variable: country_Serbia       Importance: 0.0\n",
      "Variable: country_Singapore    Importance: 0.0\n",
      "Variable: country_Slovakia     Importance: 0.0\n",
      "Variable: country_Slovenia     Importance: 0.0\n",
      "Variable: country_South Africa Importance: 0.0\n",
      "Variable: country_South Korea  Importance: 0.0\n",
      "Variable: country_Soviet Union Importance: 0.0\n",
      "Variable: country_Spain        Importance: 0.0\n",
      "Variable: country_Sri Lanka    Importance: 0.0\n",
      "Variable: country_Sweden       Importance: 0.0\n",
      "Variable: country_Switzerland  Importance: 0.0\n",
      "Variable: country_Taiwan       Importance: 0.0\n",
      "Variable: country_Thailand     Importance: 0.0\n",
      "Variable: country_Tunisia      Importance: 0.0\n",
      "Variable: country_Turkey       Importance: 0.0\n",
      "Variable: country_UK           Importance: 0.0\n",
      "Variable: country_Ukraine      Importance: 0.0\n",
      "Variable: country_United Arab Emirates Importance: 0.0\n",
      "Variable: country_Uruguay      Importance: 0.0\n",
      "Variable: country_Venezuela    Importance: 0.0\n",
      "Variable: country_Vietnam      Importance: 0.0\n",
      "Variable: country_West Germany Importance: 0.0\n",
      "Variable: country_Yugoslavia   Importance: 0.0\n",
      "Variable: country_other        Importance: 0.0\n",
      "Variable: language_Romanian    Importance: 0.0\n",
      "Variable: language_Maori       Importance: 0.0\n",
      "Variable: language_Latin       Importance: 0.0\n",
      "Variable: language_Khmer       Importance: 0.0\n",
      "Variable: language_Georgian    Importance: 0.0\n",
      "Variable: language_Nepali      Importance: 0.0\n",
      "Variable: language_Afrikaans   Importance: 0.0\n",
      "Variable: language_Bosnian     Importance: 0.0\n",
      "Variable: language_Kannada     Importance: 0.0\n",
      "Variable: language_Serbo-Croatian Importance: 0.0\n",
      "Variable: language_Dutch       Importance: 0.0\n",
      "Variable: language_Kazakh      Importance: 0.0\n",
      "Variable: language_Hokkien     Importance: 0.0\n",
      "Variable: language_Gujarati    Importance: 0.0\n",
      "Variable: language_Slovenian   Importance: 0.0\n",
      "Variable: language_Malayalam   Importance: 0.0\n",
      "Variable: language_Macedonian  Importance: 0.0\n",
      "Variable: language_Min Nan     Importance: 0.0\n",
      "Variable: language_Ukrainian   Importance: 0.0\n",
      "Variable: language_Albanian    Importance: 0.0\n",
      "Variable: language_Latvian     Importance: 0.0\n",
      "Variable: language_French      Importance: 0.0\n",
      "Variable: language_Azerbaijani Importance: 0.0\n",
      "Variable: language_Mongolian   Importance: 0.0\n",
      "Variable: language_Norwegian   Importance: 0.0\n",
      "Variable: language_Cantonese   Importance: 0.0\n",
      "Variable: language_Wolof       Importance: 0.0\n",
      "Variable: language_Armenian    Importance: 0.0\n",
      "Variable: language_Swiss German Importance: 0.0\n",
      "Variable: language_Malay       Importance: 0.0\n",
      "Variable: language_Bulgarian   Importance: 0.0\n",
      "Variable: language_None        Importance: 0.0\n",
      "Variable: language_Spanish     Importance: 0.0\n",
      "Variable: language_Indonesian  Importance: 0.0\n",
      "Variable: language_Mandarin    Importance: 0.0\n",
      "Variable: language_Zulu        Importance: 0.0\n",
      "Variable: language_Vietnamese  Importance: 0.0\n",
      "Variable: language_Punjabi     Importance: 0.0\n",
      "Variable: language_Turkish     Importance: 0.0\n",
      "Variable: language_Xhosa       Importance: 0.0\n",
      "Variable: language_Basque      Importance: 0.0\n",
      "Variable: language_Italian     Importance: 0.0\n",
      "Variable: language_Sinhalese   Importance: 0.0\n",
      "Variable: language_Hebrew      Importance: 0.0\n",
      "Variable: language_Tibetan     Importance: 0.0\n",
      "Variable: language_American Sign Language Importance: 0.0\n",
      "Variable: language_Shanghainese Importance: 0.0\n",
      "Variable: language_Serbian     Importance: 0.0\n",
      "Variable: language_Persian     Importance: 0.0\n",
      "Variable: language_Filipino    Importance: 0.0\n",
      "Variable: language_Marathi     Importance: 0.0\n",
      "Variable: language_Swedish     Importance: 0.0\n",
      "Variable: language_Urdu        Importance: 0.0\n",
      "Variable: language_Polish      Importance: 0.0\n",
      "Variable: language_Welsh       Importance: 0.0\n",
      "Variable: language_Danish      Importance: 0.0\n",
      "Variable: language_Russian     Importance: 0.0\n",
      "Variable: language_Bengali     Importance: 0.0\n",
      "Variable: language_Inuktitut   Importance: 0.0\n",
      "Variable: language_Japanese    Importance: 0.0\n",
      "Variable: language_Neapolitan  Importance: 0.0\n",
      "Variable: language_Telugu      Importance: 0.0\n",
      "Variable: language_Tamil       Importance: 0.0\n",
      "Variable: language_Croatian    Importance: 0.0\n",
      "Variable: language_Thai        Importance: 0.0\n",
      "Variable: language_Yiddish     Importance: 0.0\n",
      "Variable: language_Estonian    Importance: 0.0\n",
      "Variable: language_Hindi       Importance: 0.0\n",
      "Variable: language_Arabic      Importance: 0.0\n",
      "Variable: language_Swahili     Importance: 0.0\n",
      "Variable: language_Greek       Importance: 0.0\n",
      "Variable: language_Chinese     Importance: 0.0\n",
      "Variable: language_Catalan     Importance: 0.0\n",
      "Variable: language_German      Importance: 0.0\n",
      "Variable: language_Slovak      Importance: 0.0\n",
      "Variable: language_Dari        Importance: 0.0\n",
      "Variable: language_Pushto      Importance: 0.0\n",
      "Variable: language_Lithuanian  Importance: 0.0\n",
      "Variable: language_Flemish     Importance: 0.0\n",
      "Variable: language_Hungarian   Importance: 0.0\n",
      "Variable: language_Irish       Importance: 0.0\n",
      "Variable: language_Portuguese  Importance: 0.0\n",
      "Variable: language_Czech       Importance: 0.0\n",
      "Variable: language_Quechua     Importance: 0.0\n",
      "Variable: language_Romany      Importance: 0.0\n",
      "Variable: language_Finnish     Importance: 0.0\n",
      "Variable: language_Gallegan    Importance: 0.0\n",
      "Variable: language_Korean      Importance: 0.0\n",
      "Variable: language_Aboriginal  Importance: 0.0\n",
      "Variable: language_Tagalog     Importance: 0.0\n",
      "Variable: language_Kurdish     Importance: 0.0\n",
      "Variable: language_Icelandic   Importance: 0.0\n",
      "Variable: language_Scottish Gaelic Importance: 0.0\n",
      "Variable: language_English     Importance: 0.0\n",
      "Variable: language_other       Importance: 0.0\n",
      "Variable: common_director      Importance: 0.0\n",
      "Variable: common_writer        Importance: 0.0\n",
      "Variable: actors_A             Importance: 0.0\n"
     ]
    },
    {
     "data": {
      "text/plain": [
       "[None,\n",
       " None,\n",
       " None,\n",
       " None,\n",
       " None,\n",
       " None,\n",
       " None,\n",
       " None,\n",
       " None,\n",
       " None,\n",
       " None,\n",
       " None,\n",
       " None,\n",
       " None,\n",
       " None,\n",
       " None,\n",
       " None,\n",
       " None,\n",
       " None,\n",
       " None,\n",
       " None,\n",
       " None,\n",
       " None,\n",
       " None,\n",
       " None,\n",
       " None,\n",
       " None,\n",
       " None,\n",
       " None,\n",
       " None,\n",
       " None,\n",
       " None,\n",
       " None,\n",
       " None,\n",
       " None,\n",
       " None,\n",
       " None,\n",
       " None,\n",
       " None,\n",
       " None,\n",
       " None,\n",
       " None,\n",
       " None,\n",
       " None,\n",
       " None,\n",
       " None,\n",
       " None,\n",
       " None,\n",
       " None,\n",
       " None,\n",
       " None,\n",
       " None,\n",
       " None,\n",
       " None,\n",
       " None,\n",
       " None,\n",
       " None,\n",
       " None,\n",
       " None,\n",
       " None,\n",
       " None,\n",
       " None,\n",
       " None,\n",
       " None,\n",
       " None,\n",
       " None,\n",
       " None,\n",
       " None,\n",
       " None,\n",
       " None,\n",
       " None,\n",
       " None,\n",
       " None,\n",
       " None,\n",
       " None,\n",
       " None,\n",
       " None,\n",
       " None,\n",
       " None,\n",
       " None,\n",
       " None,\n",
       " None,\n",
       " None,\n",
       " None,\n",
       " None,\n",
       " None,\n",
       " None,\n",
       " None,\n",
       " None,\n",
       " None,\n",
       " None,\n",
       " None,\n",
       " None,\n",
       " None,\n",
       " None,\n",
       " None,\n",
       " None,\n",
       " None,\n",
       " None,\n",
       " None,\n",
       " None,\n",
       " None,\n",
       " None,\n",
       " None,\n",
       " None,\n",
       " None,\n",
       " None,\n",
       " None,\n",
       " None,\n",
       " None,\n",
       " None,\n",
       " None,\n",
       " None,\n",
       " None,\n",
       " None,\n",
       " None,\n",
       " None,\n",
       " None,\n",
       " None,\n",
       " None,\n",
       " None,\n",
       " None,\n",
       " None,\n",
       " None,\n",
       " None,\n",
       " None,\n",
       " None,\n",
       " None,\n",
       " None,\n",
       " None,\n",
       " None,\n",
       " None,\n",
       " None,\n",
       " None,\n",
       " None,\n",
       " None,\n",
       " None,\n",
       " None,\n",
       " None,\n",
       " None,\n",
       " None,\n",
       " None,\n",
       " None,\n",
       " None,\n",
       " None,\n",
       " None,\n",
       " None,\n",
       " None,\n",
       " None,\n",
       " None,\n",
       " None,\n",
       " None,\n",
       " None,\n",
       " None,\n",
       " None,\n",
       " None,\n",
       " None,\n",
       " None,\n",
       " None,\n",
       " None,\n",
       " None,\n",
       " None,\n",
       " None,\n",
       " None,\n",
       " None,\n",
       " None,\n",
       " None,\n",
       " None,\n",
       " None,\n",
       " None,\n",
       " None,\n",
       " None,\n",
       " None,\n",
       " None,\n",
       " None,\n",
       " None,\n",
       " None,\n",
       " None,\n",
       " None,\n",
       " None,\n",
       " None,\n",
       " None,\n",
       " None,\n",
       " None,\n",
       " None,\n",
       " None,\n",
       " None,\n",
       " None,\n",
       " None,\n",
       " None,\n",
       " None,\n",
       " None,\n",
       " None,\n",
       " None,\n",
       " None,\n",
       " None,\n",
       " None,\n",
       " None,\n",
       " None,\n",
       " None,\n",
       " None,\n",
       " None,\n",
       " None,\n",
       " None,\n",
       " None,\n",
       " None,\n",
       " None,\n",
       " None,\n",
       " None,\n",
       " None,\n",
       " None,\n",
       " None,\n",
       " None,\n",
       " None,\n",
       " None,\n",
       " None,\n",
       " None,\n",
       " None,\n",
       " None,\n",
       " None,\n",
       " None,\n",
       " None,\n",
       " None,\n",
       " None,\n",
       " None,\n",
       " None,\n",
       " None,\n",
       " None,\n",
       " None,\n",
       " None,\n",
       " None,\n",
       " None,\n",
       " None]"
      ]
     },
     "execution_count": 13,
     "metadata": {},
     "output_type": "execute_result"
    }
   ],
   "source": [
    "# Get numerical feature importances\n",
    "importances = list(rf.feature_importances_)\n",
    "\n",
    "# List of tuples with variable and importance\n",
    "feature_importances = [(feature, round(importance, 2)) for feature, importance in zip(sd[\"features\"], importances)]\n",
    "\n",
    "# Sort the feature importances by most important first\n",
    "feature_importances = sorted(feature_importances, key = lambda x: x[1], reverse = True)\n",
    "\n",
    "# Print out the feature and importances \n",
    "[print('Variable: {:20} Importance: {}'.format(*pair)) for pair in feature_importances]"
   ]
  },
  {
   "cell_type": "markdown",
   "id": "stopped-guatemala",
   "metadata": {},
   "source": [
    "Only these features have any importance.<br> \n",
    "<table>\n",
    "    <tr>\n",
    "        <th scope=\"col\">variable</th>\n",
    "        <th scope=\"col\">importance</th>\n",
    "    </tr>\n",
    "    <tr><td>actors_F</td><td>0.56</td></tr>\n",
    "    <tr><td>actors_C</td><td>0.13</td></tr>\n",
    "    <tr><td>actors_D</td><td>0.06</td></tr>\n",
    "    <tr><td>actors_E</td><td>0.04</td></tr>\n",
    "    <tr><td>duration</td><td>0.03</td></tr>\n",
    "    <tr><td>year</td><td>0.02</td></tr>\n",
    "    <tr><td>published_year</td><td>0.02</td></tr>\n",
    "    <tr><td>published_month</td><td>0.02</td></tr>\n",
    "    <tr><td>published_day</td><td>0.02</td></tr>\n",
    "    <tr><td>country_USA</td><td>0.01</td></tr>\n",
    "    <tr><td>actors_B</td><td>0.01</td></tr>\n",
    "</table>"
   ]
  },
  {
   "cell_type": "markdown",
   "id": "retired-reservoir",
   "metadata": {},
   "source": [
    "## 7.2.1 again, but with fewer features"
   ]
  },
  {
   "cell_type": "markdown",
   "id": "italic-lingerie",
   "metadata": {},
   "source": [
    "get features that can make a difference to begin with."
   ]
  },
  {
   "cell_type": "code",
   "execution_count": 14,
   "id": "comfortable-least",
   "metadata": {},
   "outputs": [
    {
     "data": {
      "text/plain": [
       "['actors_F',\n",
       " 'actors_C',\n",
       " 'actors_D',\n",
       " 'actors_E',\n",
       " 'duration',\n",
       " 'year',\n",
       " 'published_year',\n",
       " 'published_month',\n",
       " 'published_day',\n",
       " 'country_USA',\n",
       " 'actors_B']"
      ]
     },
     "execution_count": 14,
     "metadata": {},
     "output_type": "execute_result"
    }
   ],
   "source": [
    "features_scores_df = pd.DataFrame(feature_importances)\n",
    "features_scores_df2 = features_scores_df[features_scores_df[1] > 0].sort_values(1, ascending=False)\n",
    "most_important_features = features_scores_df2[0].to_list()\n",
    "most_important_features"
   ]
  },
  {
   "cell_type": "code",
   "execution_count": 15,
   "id": "decent-turner",
   "metadata": {},
   "outputs": [
    {
     "data": {
      "text/html": [
       "<div>\n",
       "<style scoped>\n",
       "    .dataframe tbody tr th:only-of-type {\n",
       "        vertical-align: middle;\n",
       "    }\n",
       "\n",
       "    .dataframe tbody tr th {\n",
       "        vertical-align: top;\n",
       "    }\n",
       "\n",
       "    .dataframe thead th {\n",
       "        text-align: right;\n",
       "    }\n",
       "</style>\n",
       "<table border=\"1\" class=\"dataframe\">\n",
       "  <thead>\n",
       "    <tr style=\"text-align: right;\">\n",
       "      <th></th>\n",
       "      <th>actors_F</th>\n",
       "      <th>actors_C</th>\n",
       "      <th>actors_D</th>\n",
       "      <th>actors_E</th>\n",
       "      <th>duration</th>\n",
       "      <th>year</th>\n",
       "      <th>published_year</th>\n",
       "      <th>published_month</th>\n",
       "      <th>published_day</th>\n",
       "      <th>country_USA</th>\n",
       "      <th>actors_B</th>\n",
       "    </tr>\n",
       "  </thead>\n",
       "  <tbody>\n",
       "    <tr>\n",
       "      <th>478</th>\n",
       "      <td>0</td>\n",
       "      <td>9</td>\n",
       "      <td>3</td>\n",
       "      <td>3</td>\n",
       "      <td>126</td>\n",
       "      <td>1974</td>\n",
       "      <td>1974</td>\n",
       "      <td>5</td>\n",
       "      <td>30</td>\n",
       "      <td>0</td>\n",
       "      <td>0</td>\n",
       "    </tr>\n",
       "    <tr>\n",
       "      <th>21764</th>\n",
       "      <td>5</td>\n",
       "      <td>0</td>\n",
       "      <td>1</td>\n",
       "      <td>5</td>\n",
       "      <td>75</td>\n",
       "      <td>2013</td>\n",
       "      <td>2013</td>\n",
       "      <td>3</td>\n",
       "      <td>25</td>\n",
       "      <td>1</td>\n",
       "      <td>0</td>\n",
       "    </tr>\n",
       "    <tr>\n",
       "      <th>31981</th>\n",
       "      <td>0</td>\n",
       "      <td>0</td>\n",
       "      <td>5</td>\n",
       "      <td>10</td>\n",
       "      <td>110</td>\n",
       "      <td>2014</td>\n",
       "      <td>2015</td>\n",
       "      <td>1</td>\n",
       "      <td>7</td>\n",
       "      <td>0</td>\n",
       "      <td>0</td>\n",
       "    </tr>\n",
       "    <tr>\n",
       "      <th>20072</th>\n",
       "      <td>12</td>\n",
       "      <td>0</td>\n",
       "      <td>1</td>\n",
       "      <td>2</td>\n",
       "      <td>96</td>\n",
       "      <td>2016</td>\n",
       "      <td>2018</td>\n",
       "      <td>12</td>\n",
       "      <td>14</td>\n",
       "      <td>1</td>\n",
       "      <td>0</td>\n",
       "    </tr>\n",
       "    <tr>\n",
       "      <th>40669</th>\n",
       "      <td>0</td>\n",
       "      <td>0</td>\n",
       "      <td>11</td>\n",
       "      <td>4</td>\n",
       "      <td>99</td>\n",
       "      <td>1956</td>\n",
       "      <td>1957</td>\n",
       "      <td>8</td>\n",
       "      <td>17</td>\n",
       "      <td>1</td>\n",
       "      <td>0</td>\n",
       "    </tr>\n",
       "    <tr>\n",
       "      <th>...</th>\n",
       "      <td>...</td>\n",
       "      <td>...</td>\n",
       "      <td>...</td>\n",
       "      <td>...</td>\n",
       "      <td>...</td>\n",
       "      <td>...</td>\n",
       "      <td>...</td>\n",
       "      <td>...</td>\n",
       "      <td>...</td>\n",
       "      <td>...</td>\n",
       "      <td>...</td>\n",
       "    </tr>\n",
       "    <tr>\n",
       "      <th>62570</th>\n",
       "      <td>1</td>\n",
       "      <td>0</td>\n",
       "      <td>3</td>\n",
       "      <td>5</td>\n",
       "      <td>83</td>\n",
       "      <td>1965</td>\n",
       "      <td>1965</td>\n",
       "      <td>8</td>\n",
       "      <td>6</td>\n",
       "      <td>1</td>\n",
       "      <td>0</td>\n",
       "    </tr>\n",
       "    <tr>\n",
       "      <th>38158</th>\n",
       "      <td>0</td>\n",
       "      <td>0</td>\n",
       "      <td>10</td>\n",
       "      <td>5</td>\n",
       "      <td>110</td>\n",
       "      <td>1998</td>\n",
       "      <td>1998</td>\n",
       "      <td>11</td>\n",
       "      <td>18</td>\n",
       "      <td>0</td>\n",
       "      <td>0</td>\n",
       "    </tr>\n",
       "    <tr>\n",
       "      <th>860</th>\n",
       "      <td>0</td>\n",
       "      <td>0</td>\n",
       "      <td>10</td>\n",
       "      <td>0</td>\n",
       "      <td>85</td>\n",
       "      <td>2001</td>\n",
       "      <td>2001</td>\n",
       "      <td>10</td>\n",
       "      <td>24</td>\n",
       "      <td>0</td>\n",
       "      <td>0</td>\n",
       "    </tr>\n",
       "    <tr>\n",
       "      <th>15795</th>\n",
       "      <td>1</td>\n",
       "      <td>0</td>\n",
       "      <td>4</td>\n",
       "      <td>10</td>\n",
       "      <td>104</td>\n",
       "      <td>1966</td>\n",
       "      <td>1966</td>\n",
       "      <td>8</td>\n",
       "      <td>27</td>\n",
       "      <td>0</td>\n",
       "      <td>0</td>\n",
       "    </tr>\n",
       "    <tr>\n",
       "      <th>56422</th>\n",
       "      <td>0</td>\n",
       "      <td>0</td>\n",
       "      <td>6</td>\n",
       "      <td>3</td>\n",
       "      <td>121</td>\n",
       "      <td>2008</td>\n",
       "      <td>2008</td>\n",
       "      <td>10</td>\n",
       "      <td>2</td>\n",
       "      <td>0</td>\n",
       "      <td>0</td>\n",
       "    </tr>\n",
       "  </tbody>\n",
       "</table>\n",
       "<p>48668 rows × 11 columns</p>\n",
       "</div>"
      ],
      "text/plain": [
       "       actors_F  actors_C  actors_D  actors_E  duration  year  published_year  \\\n",
       "478           0         9         3         3       126  1974            1974   \n",
       "21764         5         0         1         5        75  2013            2013   \n",
       "31981         0         0         5        10       110  2014            2015   \n",
       "20072        12         0         1         2        96  2016            2018   \n",
       "40669         0         0        11         4        99  1956            1957   \n",
       "...         ...       ...       ...       ...       ...   ...             ...   \n",
       "62570         1         0         3         5        83  1965            1965   \n",
       "38158         0         0        10         5       110  1998            1998   \n",
       "860           0         0        10         0        85  2001            2001   \n",
       "15795         1         0         4        10       104  1966            1966   \n",
       "56422         0         0         6         3       121  2008            2008   \n",
       "\n",
       "       published_month  published_day  country_USA  actors_B  \n",
       "478                  5             30            0         0  \n",
       "21764                3             25            1         0  \n",
       "31981                1              7            0         0  \n",
       "20072               12             14            1         0  \n",
       "40669                8             17            1         0  \n",
       "...                ...            ...          ...       ...  \n",
       "62570                8              6            1         0  \n",
       "38158               11             18            0         0  \n",
       "860                 10             24            0         0  \n",
       "15795                8             27            0         0  \n",
       "56422               10              2            0         0  \n",
       "\n",
       "[48668 rows x 11 columns]"
      ]
     },
     "execution_count": 15,
     "metadata": {},
     "output_type": "execute_result"
    }
   ],
   "source": [
    "spld[\"trf\"][most_important_features]"
   ]
  },
  {
   "cell_type": "code",
   "execution_count": 16,
   "id": "generic-humanitarian",
   "metadata": {},
   "outputs": [
    {
     "name": "stdout",
     "output_type": "stream",
     "text": [
      "Mean Absolute Error: 0.42 degrees.\n",
      "Accuracy: 91.6 %.\n"
     ]
    }
   ],
   "source": [
    "# New random forest with only the two most important variables\n",
    "rf_most_important = RandomForestRegressor(n_estimators= 100, random_state=42, n_jobs=6)\n",
    "\n",
    "# Extract the most important features\n",
    "# important_indices = [ sd[\"features\"].index(feature) for feature in most_important_features ]\n",
    "train_important = spld[\"trf\"][most_important_features]\n",
    "test_important = spld[\"tef\"][most_important_features]\n",
    "\n",
    "# Train the random forest\n",
    "rf_most_important.fit(train_important, spld[\"trl\"][\"avg_vote\"].to_list())\n",
    "\n",
    "# Make predictions and determine the error\n",
    "predictions = rf_most_important.predict(test_important)\n",
    "errors = abs(predictions - spld[\"tel\"][\"avg_vote\"].to_list())\n",
    "\n",
    "# Display the performance metrics\n",
    "print('Mean Absolute Error:', round(np.mean(errors), 2), 'degrees.')\n",
    "mape = np.mean(100 * (errors / spld[\"tel\"][\"avg_vote\"].to_list()))\n",
    "accuracy = 100 - mape\n",
    "print('Accuracy:', round(accuracy, 2), '%.')"
   ]
  },
  {
   "cell_type": "markdown",
   "id": "knowing-worst",
   "metadata": {},
   "source": [
    "We can probably take out more labels.<br>\n",
    "we only take the actors, for the hell of it.<br>\n",
    "The actor ranking is made up of with the actual movie score.<br>\n",
    "So this basically would mean that you get a good prediction of the movie scores, if you use the morfed versions of the movie score.<br>\n",
    "In other words:<br>\n",
    "A) the most important features to predict the avg movie scores, are the actor scores that are derived from the avg movie score.<br>\n",
    "B) We are technically not predicting anything.<br>"
   ]
  },
  {
   "cell_type": "code",
   "execution_count": 20,
   "id": "classified-springer",
   "metadata": {},
   "outputs": [],
   "source": [
    "most_important_features_custom = [\"actors_F\", \"actors_C\", \"actors_D\", \"actors_E\"]"
   ]
  },
  {
   "cell_type": "code",
   "execution_count": 21,
   "id": "twelve-cartridge",
   "metadata": {},
   "outputs": [
    {
     "name": "stdout",
     "output_type": "stream",
     "text": [
      "Mean Absolute Error: 0.43 degrees.\n",
      "Accuracy: 91.3 %.\n"
     ]
    }
   ],
   "source": [
    "# New random forest with only the two most important variables\n",
    "rf_most_important_custom = RandomForestRegressor(n_estimators= 100, random_state=42, n_jobs=6)\n",
    "\n",
    "# Extract the most important features\n",
    "# important_indices = [ sd[\"features\"].index(feature) for feature in most_important_features ]\n",
    "train_important = spld[\"trf\"][most_important_features_custom]\n",
    "test_important = spld[\"tef\"][most_important_features_custom]\n",
    "\n",
    "# Train the random forest\n",
    "rf_most_important_custom.fit(train_important, spld[\"trl\"][\"avg_vote\"].to_list())\n",
    "\n",
    "# Make predictions and determine the error\n",
    "predictions = rf_most_important_custom.predict(test_important)\n",
    "errors = abs(predictions - spld[\"tel\"][\"avg_vote\"].to_list())\n",
    "\n",
    "# Display the performance metrics\n",
    "print('Mean Absolute Error:', round(np.mean(errors), 2), 'degrees.')\n",
    "mape = np.mean(100 * (errors / spld[\"tel\"][\"avg_vote\"].to_list()))\n",
    "accuracy = 100 - mape\n",
    "print('Accuracy:', round(accuracy, 2), '%.')"
   ]
  },
  {
   "cell_type": "markdown",
   "id": "missing-crowd",
   "metadata": {},
   "source": [
    "\"actors_F\" is probably the biggest group of actors, that is why it is so important...<br>\n",
    "0.3 percent point difference => we are not predicting anything."
   ]
  },
  {
   "cell_type": "markdown",
   "id": "weighted-congress",
   "metadata": {},
   "source": [
    "# 8 Visualisations"
   ]
  },
  {
   "cell_type": "code",
   "execution_count": 23,
   "id": "impaired-refrigerator",
   "metadata": {},
   "outputs": [
    {
     "data": {
      "image/png": "[encoded data removed]",
      "text/plain": [
       "<Figure size 432x288 with 1 Axes>"
      ]
     },
     "metadata": {},
     "output_type": "display_data"
    }
   ],
   "source": [
    "import matplotlib.pyplot as plt\n",
    "%matplotlib inline\n",
    "\n",
    "# Set the style\n",
    "plt.style.use('fivethirtyeight')\n",
    "\n",
    "# list of x locations for plotting\n",
    "x_values = list(range(len(importances)))\n",
    "\n",
    "# Make a bar chart\n",
    "plt.bar(x_values, importances, orientation = 'vertical')\n",
    "\n",
    "# Tick labels for x axis\n",
    "plt.xticks(x_values, sd[\"features\"], rotation='vertical')\n",
    "\n",
    "\n",
    "# Axis labels and title\n",
    "plt.ylabel('Importance'); plt.xlabel('Variable'); plt.title('Variable Importances');"
   ]
  },
  {
   "cell_type": "markdown",
   "id": "native-mumbai",
   "metadata": {},
   "source": [
    "again,  our actor ratings are important and \n",
    " 'duration',\n",
    " 'year',\n",
    " 'published_year',\n",
    " 'published_month',\n",
    " 'published_day',\n",
    " 'country_USA'<br><br>\n",
    " What is interesting though is that it matters a lot if the movie is from the USA."
   ]
  },
  {
   "cell_type": "markdown",
   "id": "pharmaceutical-poverty",
   "metadata": {},
   "source": [
    "lets look at our predictions vs the real label.<br>\n",
    "note shure if we use the right variable."
   ]
  },
  {
   "cell_type": "code",
   "execution_count": 27,
   "id": "beneficial-baltimore",
   "metadata": {},
   "outputs": [],
   "source": [
    "predicted_test_scores = predictions.copy()\n",
    "real_test_scores = spld[\"tel\"][\"avg_vote\"].to_list()"
   ]
  },
  {
   "cell_type": "markdown",
   "id": "interracial-questionnaire",
   "metadata": {},
   "source": [
    "we can do a paired sample t-test<br>\n",
    "H0 = groups are equal."
   ]
  },
  {
   "cell_type": "code",
   "execution_count": 29,
   "id": "sensitive-catalog",
   "metadata": {},
   "outputs": [],
   "source": [
    "import scipy.stats as stats"
   ]
  },
  {
   "cell_type": "code",
   "execution_count": 30,
   "id": "established-architect",
   "metadata": {},
   "outputs": [
    {
     "data": {
      "text/plain": [
       "Ttest_relResult(statistic=-1.058005103743805, pvalue=0.290068869748533)"
      ]
     },
     "execution_count": 30,
     "metadata": {},
     "output_type": "execute_result"
    }
   ],
   "source": [
    "stats.ttest_rel(real_test_scores, predicted_test_scores)"
   ]
  },
  {
   "cell_type": "markdown",
   "id": "involved-nation",
   "metadata": {},
   "source": [
    "p-value is pretty big, so no rejection of H0.<br>\n",
    "So the groups are equal.<br>\n",
    "in other words, is a good prediction.<br>\n",
    "<br>\n",
    "Side note: this is totally not the way to review performance, but my brain is a bit dead."
   ]
  },
  {
   "cell_type": "code",
   "execution_count": null,
   "id": "upset-honolulu",
   "metadata": {},
   "outputs": [],
   "source": []
  }
 ],
 "metadata": {
  "kernelspec": {
   "display_name": "Python 3",
   "language": "python",
   "name": "python3"
  },
  "language_info": {
   "codemirror_mode": {
    "name": "ipython",
    "version": 3
   },
   "file_extension": ".py",
   "mimetype": "text/x-python",
   "name": "python",
   "nbconvert_exporter": "python",
   "pygments_lexer": "ipython3",
   "version": "3.8.5"
  }
 },
 "nbformat": 4,
 "nbformat_minor": 5
}
