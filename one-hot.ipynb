{
 "cells": [
  {
   "cell_type": "markdown",
   "id": "danish-stable",
   "metadata": {},
   "source": [
    "# one-hot test\n",
    "\n",
    "##  import stuff"
   ]
  },
  {
   "cell_type": "code",
   "execution_count": 1,
   "id": "current-longitude",
   "metadata": {},
   "outputs": [],
   "source": [
    "import numpy as np\n",
    "import pandas as pd\n",
    "import matplotlib.pyplot as plt\n",
    "from collections import Counter"
   ]
  },
  {
   "cell_type": "markdown",
   "id": "another-harvest",
   "metadata": {},
   "source": [
    "Here you have to give the path to the original imdb data.\n",
    "Don't forget the slash or backslash at the end."
   ]
  },
  {
   "cell_type": "code",
   "execution_count": 2,
   "id": "pursuant-balloon",
   "metadata": {},
   "outputs": [],
   "source": [
    "original_data_path = \"/home/user/Documents/studies/master/vu - systeembio master/modules/04 Machine Learning/project/project start data/\""
   ]
  },
  {
   "cell_type": "markdown",
   "id": "warming-windows",
   "metadata": {},
   "source": [
    "## import raw data"
   ]
  },
  {
   "cell_type": "code",
   "execution_count": 3,
   "id": "sonic-differential",
   "metadata": {},
   "outputs": [],
   "source": [
    "or_movies = pd.read_csv(original_data_path+'IMDb movies.csv', delimiter=\",\", low_memory=False)\n",
    "or_names = pd.read_csv(original_data_path+'IMDb names.csv', delimiter=\",\", low_memory=False)\n",
    "or_ratings = pd.read_csv(original_data_path+'IMDb ratings.csv', delimiter=\",\", low_memory=False)\n",
    "or_title_principles = pd.read_csv(original_data_path+'IMDb title_principals.csv', delimiter=\",\", low_memory=False)"
   ]
  },
  {
   "cell_type": "markdown",
   "id": "double-simulation",
   "metadata": {},
   "source": [
    "# one hot encoding for actors"
   ]
  },
  {
   "cell_type": "markdown",
   "id": "hollow-business",
   "metadata": {},
   "source": [
    "## first we get a count of the actors"
   ]
  },
  {
   "cell_type": "code",
   "execution_count": 4,
   "id": "brazilian-grass",
   "metadata": {},
   "outputs": [
    {
     "data": {
      "text/plain": [
       "0        Blanche Bayliss, William Courtenay, Chauncey D...\n",
       "1        Elizabeth Tait, John Tait, Norman Campbell, Be...\n",
       "2        Asta Nielsen, Valdemar Psilander, Gunnar Helse...\n",
       "3        Helen Gardner, Pearl Sindelar, Miss Fielding, ...\n",
       "4        Salvatore Papa, Arturo Pirovano, Giuseppe de L...\n",
       "                               ...                        \n",
       "85850    Dany Boon, Philippe Katerine, Anne Serra, Samu...\n",
       "85851    Herman Finkers, Johanna ter Steege, Leonie ter...\n",
       "85852    Anoop Chandran, Indrans, Sona Nair, Simon Brit...\n",
       "85853    Ahmet Faik Akinci, Belma Mamati, Metin Keçeci,...\n",
       "85854    Maria Morera Colomer, Biel Rossell Pelfort, Is...\n",
       "Name: actors, Length: 85855, dtype: object"
      ]
     },
     "execution_count": 4,
     "metadata": {},
     "output_type": "execute_result"
    }
   ],
   "source": [
    "or_movies[\"actors\"]"
   ]
  },
  {
   "cell_type": "code",
   "execution_count": 5,
   "id": "forty-december",
   "metadata": {},
   "outputs": [
    {
     "data": {
      "text/html": [
       "<div>\n",
       "<style scoped>\n",
       "    .dataframe tbody tr th:only-of-type {\n",
       "        vertical-align: middle;\n",
       "    }\n",
       "\n",
       "    .dataframe tbody tr th {\n",
       "        vertical-align: top;\n",
       "    }\n",
       "\n",
       "    .dataframe thead th {\n",
       "        text-align: right;\n",
       "    }\n",
       "</style>\n",
       "<table border=\"1\" class=\"dataframe\">\n",
       "  <thead>\n",
       "    <tr style=\"text-align: right;\">\n",
       "      <th></th>\n",
       "      <th>actor</th>\n",
       "      <th>count</th>\n",
       "    </tr>\n",
       "  </thead>\n",
       "  <tbody>\n",
       "    <tr>\n",
       "      <th>150619</th>\n",
       "      <td>Brahmanandam</td>\n",
       "      <td>318</td>\n",
       "    </tr>\n",
       "    <tr>\n",
       "      <th>85880</th>\n",
       "      <td>Anupam Kher</td>\n",
       "      <td>211</td>\n",
       "    </tr>\n",
       "    <tr>\n",
       "      <th>96620</th>\n",
       "      <td>Nassar</td>\n",
       "      <td>204</td>\n",
       "    </tr>\n",
       "    <tr>\n",
       "      <th>13121</th>\n",
       "      <td>Eric Roberts</td>\n",
       "      <td>204</td>\n",
       "    </tr>\n",
       "    <tr>\n",
       "      <th>113065</th>\n",
       "      <td>Prakash Raj</td>\n",
       "      <td>189</td>\n",
       "    </tr>\n",
       "    <tr>\n",
       "      <th>...</th>\n",
       "      <td>...</td>\n",
       "      <td>...</td>\n",
       "    </tr>\n",
       "    <tr>\n",
       "      <th>186401</th>\n",
       "      <td>Tae-seong Jin</td>\n",
       "      <td>1</td>\n",
       "    </tr>\n",
       "    <tr>\n",
       "      <th>186397</th>\n",
       "      <td>Hyun-Jung Kim</td>\n",
       "      <td>1</td>\n",
       "    </tr>\n",
       "    <tr>\n",
       "      <th>186396</th>\n",
       "      <td>Lina Mei</td>\n",
       "      <td>1</td>\n",
       "    </tr>\n",
       "    <tr>\n",
       "      <th>186393</th>\n",
       "      <td>Jie Min</td>\n",
       "      <td>1</td>\n",
       "    </tr>\n",
       "    <tr>\n",
       "      <th>417319</th>\n",
       "      <td>Francesca Piñón</td>\n",
       "      <td>1</td>\n",
       "    </tr>\n",
       "  </tbody>\n",
       "</table>\n",
       "<p>417320 rows × 2 columns</p>\n",
       "</div>"
      ],
      "text/plain": [
       "                  actor  count\n",
       "150619     Brahmanandam    318\n",
       "85880       Anupam Kher    211\n",
       "96620            Nassar    204\n",
       "13121      Eric Roberts    204\n",
       "113065      Prakash Raj    189\n",
       "...                 ...    ...\n",
       "186401    Tae-seong Jin      1\n",
       "186397    Hyun-Jung Kim      1\n",
       "186396         Lina Mei      1\n",
       "186393          Jie Min      1\n",
       "417319  Francesca Piñón      1\n",
       "\n",
       "[417320 rows x 2 columns]"
      ]
     },
     "execution_count": 5,
     "metadata": {},
     "output_type": "execute_result"
    }
   ],
   "source": [
    "actors_str_list = or_movies[\"actors\"].dropna().tolist()\n",
    "actors_str_list.count\n",
    "actors_big_string = \", \".join(actors_str_list)\n",
    "del actors_str_list\n",
    "actors = actors_big_string.split(\", \")\n",
    "del actors_big_string\n",
    "counted_actors = Counter(actors)\n",
    "del actors\n",
    "actors_df = pd.DataFrame.from_dict(counted_actors, orient='index').reset_index()\n",
    "del counted_actors\n",
    "actors_df\n",
    "actors_df = actors_df.rename(columns={\"index\": \"actor\", 0: \"count\"})\n",
    "actors_df = actors_df.sort_values([\"count\"], ascending=False)\n",
    "actors_df"
   ]
  },
  {
   "cell_type": "markdown",
   "id": "stunning-membrane",
   "metadata": {},
   "source": [
    "## calculate data loss when choosing x most common actors"
   ]
  },
  {
   "cell_type": "code",
   "execution_count": 6,
   "id": "drawn-advisory",
   "metadata": {},
   "outputs": [
    {
     "data": {
      "text/plain": [
       "Text(0.5, 1.0, 'data loss when choosing amount of most common actors')"
      ]
     },
     "execution_count": 6,
     "metadata": {},
     "output_type": "execute_result"
    },
    {
     "data": {
      "image/png": "[encoded data removed]",
      "text/plain": [
       "<Figure size 432x288 with 1 Axes>"
      ]
     },
     "metadata": {
      "needs_background": "light"
     },
     "output_type": "display_data"
    }
   ],
   "source": [
    "actors_df[\"share\"] = actors_df[\"count\"] / len(or_movies[\"actors\"].dropna().index)\n",
    "\n",
    "lijst = []\n",
    "\n",
    "actors_sorted = actors_df.sort_values(\"share\", ascending=False)\n",
    "\n",
    "\n",
    "for x in range(100):\n",
    "    lijst.append((1 - actors_sorted[\"share\"].head(x).sum()) * 100)\n",
    "\n",
    "plt.plot(range(100), lijst)\n",
    "plt.ylabel(\"percentage data loss\")\n",
    "plt.xlabel(\"amount off most common actors\")\n",
    "plt.title(\"data loss when choosing amount of most common actors\")\n"
   ]
  },
  {
   "cell_type": "markdown",
   "id": "second-george",
   "metadata": {},
   "source": [
    "with 1000 most common actors there is still is 94% data loss.\n",
    "in other words: one-hot encoding with 1000 most common actors (adds 1000 collumns) removes 94% off all actors of all movies (which includes duplicates of actors)\n",
    "So this is probably not the right way."
   ]
  },
  {
   "cell_type": "markdown",
   "id": "american-latest",
   "metadata": {},
   "source": [
    "## calculate data loss when choosing x most common actors with movies from last 50 years"
   ]
  },
  {
   "cell_type": "code",
   "execution_count": 7,
   "id": "involved-exposure",
   "metadata": {},
   "outputs": [
    {
     "name": "stdout",
     "output_type": "stream",
     "text": [
      "85786 68911\n"
     ]
    },
    {
     "data": {
      "text/html": [
       "<div>\n",
       "<style scoped>\n",
       "    .dataframe tbody tr th:only-of-type {\n",
       "        vertical-align: middle;\n",
       "    }\n",
       "\n",
       "    .dataframe tbody tr th {\n",
       "        vertical-align: top;\n",
       "    }\n",
       "\n",
       "    .dataframe thead th {\n",
       "        text-align: right;\n",
       "    }\n",
       "</style>\n",
       "<table border=\"1\" class=\"dataframe\">\n",
       "  <thead>\n",
       "    <tr style=\"text-align: right;\">\n",
       "      <th></th>\n",
       "      <th>actor</th>\n",
       "      <th>count</th>\n",
       "    </tr>\n",
       "  </thead>\n",
       "  <tbody>\n",
       "    <tr>\n",
       "      <th>109703</th>\n",
       "      <td>Brahmanandam</td>\n",
       "      <td>318</td>\n",
       "    </tr>\n",
       "    <tr>\n",
       "      <th>44958</th>\n",
       "      <td>Anupam Kher</td>\n",
       "      <td>211</td>\n",
       "    </tr>\n",
       "    <tr>\n",
       "      <th>56218</th>\n",
       "      <td>Nassar</td>\n",
       "      <td>204</td>\n",
       "    </tr>\n",
       "    <tr>\n",
       "      <th>25147</th>\n",
       "      <td>Eric Roberts</td>\n",
       "      <td>200</td>\n",
       "    </tr>\n",
       "    <tr>\n",
       "      <th>73263</th>\n",
       "      <td>Prakash Raj</td>\n",
       "      <td>189</td>\n",
       "    </tr>\n",
       "    <tr>\n",
       "      <th>...</th>\n",
       "      <td>...</td>\n",
       "      <td>...</td>\n",
       "    </tr>\n",
       "    <tr>\n",
       "      <th>165066</th>\n",
       "      <td>Nicholas Butler</td>\n",
       "      <td>1</td>\n",
       "    </tr>\n",
       "    <tr>\n",
       "      <th>165067</th>\n",
       "      <td>Teresa Peters</td>\n",
       "      <td>1</td>\n",
       "    </tr>\n",
       "    <tr>\n",
       "      <th>165068</th>\n",
       "      <td>Steve Abel</td>\n",
       "      <td>1</td>\n",
       "    </tr>\n",
       "    <tr>\n",
       "      <th>165069</th>\n",
       "      <td>Mardi Potter</td>\n",
       "      <td>1</td>\n",
       "    </tr>\n",
       "    <tr>\n",
       "      <th>374906</th>\n",
       "      <td>Francesca Piñón</td>\n",
       "      <td>1</td>\n",
       "    </tr>\n",
       "  </tbody>\n",
       "</table>\n",
       "<p>374907 rows × 2 columns</p>\n",
       "</div>"
      ],
      "text/plain": [
       "                  actor  count\n",
       "109703     Brahmanandam    318\n",
       "44958       Anupam Kher    211\n",
       "56218            Nassar    204\n",
       "25147      Eric Roberts    200\n",
       "73263       Prakash Raj    189\n",
       "...                 ...    ...\n",
       "165066  Nicholas Butler      1\n",
       "165067    Teresa Peters      1\n",
       "165068       Steve Abel      1\n",
       "165069     Mardi Potter      1\n",
       "374906  Francesca Piñón      1\n",
       "\n",
       "[374907 rows x 2 columns]"
      ]
     },
     "execution_count": 7,
     "metadata": {},
     "output_type": "execute_result"
    }
   ],
   "source": [
    "or_movies[\"year\"] = or_movies[\"year\"].str.extract('(\\d+)', expand=False).astype(int)\n",
    "\n",
    "before_len = len(or_movies[\"actors\"].dropna().index)\n",
    "\n",
    "actors_str_list_50 = or_movies[or_movies[\"year\"] > (2021-50)][\"actors\"].dropna().tolist()\n",
    "after_len = len(or_movies[or_movies[\"year\"] > (2021-50)][\"actors\"].dropna().index)\n",
    "\n",
    "print(before_len, after_len)\n",
    "\n",
    "actors_big_string_50 = \", \".join(actors_str_list_50)\n",
    "del actors_str_list_50\n",
    "\n",
    "# actors_big_string_50\n",
    "\n",
    "actors_50 = actors_big_string_50.split(\", \")\n",
    "del actors_big_string_50\n",
    "counted_actors_50 = Counter(actors_50)\n",
    "del actors_50\n",
    "actors_50_df = pd.DataFrame.from_dict(counted_actors_50, orient='index').reset_index()\n",
    "del counted_actors_50\n",
    "actors_50_df\n",
    "actors_50_df = actors_50_df.rename(columns={\"index\": \"actor\", 0: \"count\"})\n",
    "actors_50_df = actors_50_df.sort_values([\"count\"], ascending=False)\n",
    "actors_50_df"
   ]
  },
  {
   "cell_type": "code",
   "execution_count": 8,
   "id": "deluxe-study",
   "metadata": {},
   "outputs": [
    {
     "data": {
      "text/plain": [
       "Text(0.5, 1.0, 'data loss when choosing amount of most common actors')"
      ]
     },
     "execution_count": 8,
     "metadata": {},
     "output_type": "execute_result"
    },
    {
     "data": {
      "image/png": "[encoded data removed]",
      "text/plain": [
       "<Figure size 432x288 with 1 Axes>"
      ]
     },
     "metadata": {
      "needs_background": "light"
     },
     "output_type": "display_data"
    }
   ],
   "source": [
    "actors_50_df[\"share\"] = actors_50_df[\"count\"] / len(or_movies[or_movies[\"year\"] > (2021-50)].dropna().index)\n",
    "\n",
    "lijst2 = []\n",
    "\n",
    "actors_sorted2 = actors_50_df.sort_values(\"share\", ascending=False)\n",
    "\n",
    "\n",
    "for x in range(100):\n",
    "    lijst2.append((1 - actors_sorted2[\"share\"].head(x).sum()) * 100)\n",
    "\n",
    "plt.plot(range(100), lijst2)\n",
    "plt.ylabel(\"percentage data loss\")\n",
    "plt.xlabel(\"amount off most common actors\")\n",
    "plt.title(\"data loss when choosing amount of most common actors\")"
   ]
  },
  {
   "cell_type": "markdown",
   "id": "collectible-attendance",
   "metadata": {},
   "source": [
    "so only choosing movies from the last 5 years, doesn't matter"
   ]
  },
  {
   "cell_type": "markdown",
   "id": "soviet-empire",
   "metadata": {},
   "source": [
    "## lets try average score for actor"
   ]
  },
  {
   "cell_type": "markdown",
   "id": "median-reminder",
   "metadata": {},
   "source": [
    "first we split movies to duplicate movies."
   ]
  },
  {
   "cell_type": "markdown",
   "id": "running-insert",
   "metadata": {},
   "source": [
    "door de lijst met acteurs loopen.\n",
    "kijken in welke fils hij zit"
   ]
  },
  {
   "cell_type": "code",
   "execution_count": 9,
   "id": "worth-contamination",
   "metadata": {},
   "outputs": [],
   "source": [
    "# new_dataframe = pd.DataFrame()\n",
    "# or_movies_short = or_movies.head(100)\n",
    "# for index, row in or_movies_short.iterrows():\n",
    "#     actors = row[\"actors\"]\n",
    "#     try:\n",
    "#         actor_list = actors.split(\", \")\n",
    "#         for actor in actor_list:\n",
    "#             row[\"actors\"] = actor\n",
    "#             new_dataframe.append(row, ignore_index=True)\n",
    "#     except:\n",
    "#         new_dataframe.append(row, ignore_index=True)\n",
    "# new_dataframe.head(2)\n",
    "\n",
    "def to_list(row):\n",
    "    row[\"actors\"] = row[\"actors\"].split(\", \")\n",
    "    row[\"actors\"][0] = row[\"actors\"][0].replace(\"[\", \"\")\n",
    "    row[\"actors\"][-1] = row[\"actors\"][-1].replace(\"]\", \"\")\n",
    "    return row\n",
    "\n",
    "or_movies_exploded = or_movies.dropna(subset=['actors'])\n",
    "\n",
    "\n",
    "or_movies_exploded = or_movies_exploded.apply(to_list, axis=1)\n",
    "or_movies_exploded = or_movies_exploded.explode(\"actors\")\n",
    "# or_movies = or_movies.sort_values(by=[\"imdb_title_id\"])\n",
    "\n",
    "\n",
    "\n",
    "# for index, row in or_movies_short.iterrows():\n",
    "#     or_movies_short.iloc[index]\n",
    "# or_movies.explode(\"actors\")    "
   ]
  },
  {
   "cell_type": "code",
   "execution_count": 10,
   "id": "chief-singapore",
   "metadata": {},
   "outputs": [],
   "source": [
    "mean_by_actors = or_movies_exploded[[\"actors\",\"avg_vote\"]].groupby(['actors']).mean()"
   ]
  },
  {
   "cell_type": "code",
   "execution_count": 11,
   "id": "guided-vitamin",
   "metadata": {},
   "outputs": [
    {
     "data": {
      "text/html": [
       "<div>\n",
       "<style scoped>\n",
       "    .dataframe tbody tr th:only-of-type {\n",
       "        vertical-align: middle;\n",
       "    }\n",
       "\n",
       "    .dataframe tbody tr th {\n",
       "        vertical-align: top;\n",
       "    }\n",
       "\n",
       "    .dataframe thead th {\n",
       "        text-align: right;\n",
       "    }\n",
       "</style>\n",
       "<table border=\"1\" class=\"dataframe\">\n",
       "  <thead>\n",
       "    <tr style=\"text-align: right;\">\n",
       "      <th></th>\n",
       "      <th>avg_vote</th>\n",
       "    </tr>\n",
       "    <tr>\n",
       "      <th>actors</th>\n",
       "      <th></th>\n",
       "    </tr>\n",
       "  </thead>\n",
       "  <tbody>\n",
       "    <tr>\n",
       "      <th>'Astor' Escobar</th>\n",
       "      <td>6.400000</td>\n",
       "    </tr>\n",
       "    <tr>\n",
       "      <th>'Baby' Carmen De Rue</th>\n",
       "      <td>5.166667</td>\n",
       "    </tr>\n",
       "    <tr>\n",
       "      <th>'Bang Bang' Toto Ruta</th>\n",
       "      <td>7.100000</td>\n",
       "    </tr>\n",
       "    <tr>\n",
       "      <th>'Big Al' Solomon</th>\n",
       "      <td>3.400000</td>\n",
       "    </tr>\n",
       "    <tr>\n",
       "      <th>'Big Jack' Provan</th>\n",
       "      <td>6.000000</td>\n",
       "    </tr>\n",
       "    <tr>\n",
       "      <th>...</th>\n",
       "      <td>...</td>\n",
       "    </tr>\n",
       "    <tr>\n",
       "      <th>Þórir Waagfjörð</th>\n",
       "      <td>5.300000</td>\n",
       "    </tr>\n",
       "    <tr>\n",
       "      <th>Þórunn Antónía Magnúsdóttir</th>\n",
       "      <td>6.300000</td>\n",
       "    </tr>\n",
       "    <tr>\n",
       "      <th>Þórunn Arna Kristjánsdóttir</th>\n",
       "      <td>7.100000</td>\n",
       "    </tr>\n",
       "    <tr>\n",
       "      <th>Þórunn Magnea Magnúsdóttir</th>\n",
       "      <td>6.600000</td>\n",
       "    </tr>\n",
       "    <tr>\n",
       "      <th>Þórður Árnason</th>\n",
       "      <td>7.300000</td>\n",
       "    </tr>\n",
       "  </tbody>\n",
       "</table>\n",
       "<p>417320 rows × 1 columns</p>\n",
       "</div>"
      ],
      "text/plain": [
       "                             avg_vote\n",
       "actors                               \n",
       "'Astor' Escobar              6.400000\n",
       "'Baby' Carmen De Rue         5.166667\n",
       "'Bang Bang' Toto Ruta        7.100000\n",
       "'Big Al' Solomon             3.400000\n",
       "'Big Jack' Provan            6.000000\n",
       "...                               ...\n",
       "Þórir Waagfjörð              5.300000\n",
       "Þórunn Antónía Magnúsdóttir  6.300000\n",
       "Þórunn Arna Kristjánsdóttir  7.100000\n",
       "Þórunn Magnea Magnúsdóttir   6.600000\n",
       "Þórður Árnason               7.300000\n",
       "\n",
       "[417320 rows x 1 columns]"
      ]
     },
     "execution_count": 11,
     "metadata": {},
     "output_type": "execute_result"
    }
   ],
   "source": [
    "mean_by_actors"
   ]
  },
  {
   "cell_type": "markdown",
   "id": "reduced-motion",
   "metadata": {},
   "source": [
    "### hier de average vote toevoegen aan de juiste rijen van or_movies\n",
    "### dan kan je de gemiddelde acteur score berekenen voor de film"
   ]
  },
  {
   "cell_type": "code",
   "execution_count": 12,
   "id": "aboriginal-conditioning",
   "metadata": {},
   "outputs": [
    {
     "data": {
      "text/html": [
       "<div>\n",
       "<style scoped>\n",
       "    .dataframe tbody tr th:only-of-type {\n",
       "        vertical-align: middle;\n",
       "    }\n",
       "\n",
       "    .dataframe tbody tr th {\n",
       "        vertical-align: top;\n",
       "    }\n",
       "\n",
       "    .dataframe thead th {\n",
       "        text-align: right;\n",
       "    }\n",
       "</style>\n",
       "<table border=\"1\" class=\"dataframe\">\n",
       "  <thead>\n",
       "    <tr style=\"text-align: right;\">\n",
       "      <th></th>\n",
       "      <th>avg_actors_vote</th>\n",
       "    </tr>\n",
       "    <tr>\n",
       "      <th>imdb_title_id</th>\n",
       "      <th></th>\n",
       "    </tr>\n",
       "  </thead>\n",
       "  <tbody>\n",
       "    <tr>\n",
       "      <th>tt0000009</th>\n",
       "      <td>5.888889</td>\n",
       "    </tr>\n",
       "    <tr>\n",
       "      <th>tt0000574</th>\n",
       "      <td>6.117308</td>\n",
       "    </tr>\n",
       "    <tr>\n",
       "      <th>tt0001892</th>\n",
       "      <td>6.058333</td>\n",
       "    </tr>\n",
       "    <tr>\n",
       "      <th>tt0002101</th>\n",
       "      <td>5.219231</td>\n",
       "    </tr>\n",
       "    <tr>\n",
       "      <th>tt0002130</th>\n",
       "      <td>7.000000</td>\n",
       "    </tr>\n",
       "    <tr>\n",
       "      <th>...</th>\n",
       "      <td>...</td>\n",
       "    </tr>\n",
       "    <tr>\n",
       "      <th>tt9908390</th>\n",
       "      <td>5.595646</td>\n",
       "    </tr>\n",
       "    <tr>\n",
       "      <th>tt9911196</th>\n",
       "      <td>7.269681</td>\n",
       "    </tr>\n",
       "    <tr>\n",
       "      <th>tt9911774</th>\n",
       "      <td>6.510095</td>\n",
       "    </tr>\n",
       "    <tr>\n",
       "      <th>tt9914286</th>\n",
       "      <td>5.923238</td>\n",
       "    </tr>\n",
       "    <tr>\n",
       "      <th>tt9914942</th>\n",
       "      <td>6.516667</td>\n",
       "    </tr>\n",
       "  </tbody>\n",
       "</table>\n",
       "<p>85786 rows × 1 columns</p>\n",
       "</div>"
      ],
      "text/plain": [
       "               avg_actors_vote\n",
       "imdb_title_id                 \n",
       "tt0000009             5.888889\n",
       "tt0000574             6.117308\n",
       "tt0001892             6.058333\n",
       "tt0002101             5.219231\n",
       "tt0002130             7.000000\n",
       "...                        ...\n",
       "tt9908390             5.595646\n",
       "tt9911196             7.269681\n",
       "tt9911774             6.510095\n",
       "tt9914286             5.923238\n",
       "tt9914942             6.516667\n",
       "\n",
       "[85786 rows x 1 columns]"
      ]
     },
     "execution_count": 12,
     "metadata": {},
     "output_type": "execute_result"
    }
   ],
   "source": [
    "title_id_actors_avg_score_for_actor = pd.merge(or_movies_exploded[[\"imdb_title_id\", \"actors\"]], mean_by_actors, on=\"actors\", how=\"left\")\n",
    "\n",
    "avg_movie_actor_score = title_id_actors_avg_score_for_actor[[\"imdb_title_id\", \"avg_vote\"]].groupby(['imdb_title_id']).mean()\n",
    "avg_movie_actor_score = avg_movie_actor_score.rename(columns={\"avg_vote\": \"avg_actors_vote\"})\n",
    "avg_movie_actor_score"
   ]
  },
  {
   "cell_type": "code",
   "execution_count": 13,
   "id": "ordered-excuse",
   "metadata": {},
   "outputs": [
    {
     "data": {
      "text/plain": [
       "Text(0.5, 1.0, 'avg movie vs avg actor vote')"
      ]
     },
     "execution_count": 13,
     "metadata": {},
     "output_type": "execute_result"
    },
    {
     "data": {
      "image/png": "[encoded data removed]",
      "text/plain": [
       "<Figure size 432x288 with 1 Axes>"
      ]
     },
     "metadata": {
      "needs_background": "light"
     },
     "output_type": "display_data"
    }
   ],
   "source": [
    "or_movies_avg_actor_vote = pd.merge(or_movies, avg_movie_actor_score, on=\"imdb_title_id\", how=\"left\")\n",
    "or_movies_avg_actor_vote.sort_values([\"avg_actors_vote\"], ascending=False)\n",
    "for_plot = or_movies_avg_actor_vote[[\"avg_vote\", \"avg_actors_vote\"]].dropna()\n",
    "\n",
    "plt.scatter(for_plot[\"avg_vote\"], for_plot[\"avg_actors_vote\"], s=3, alpha=0.2)\n",
    "plt.xlabel('avg movie vote')\n",
    "plt.ylabel('avg actor vote')\n",
    "plt.title(\"avg movie vs avg actor vote\")\n",
    "# m, b = np.polyfit(for_plot[\"avg_vote\"], for_plot[\"avg_actors_vote\"], 1)\n",
    "# plt.plot(x, m*x + b)\n",
    "# plt.ylim(0,10)\n",
    "# plt.xlim(0,10)\n",
    "\n",
    "\n",
    "# or_movies_avg_actor_vote.plot.scatter(x=\"avg_vote\", y=\"avg_actors_vote\")"
   ]
  },
  {
   "cell_type": "code",
   "execution_count": null,
   "id": "governmental-validation",
   "metadata": {},
   "outputs": [],
   "source": []
  }
 ],
 "metadata": {
  "kernelspec": {
   "display_name": "Python 3",
   "language": "python",
   "name": "python3"
  },
  "language_info": {
   "codemirror_mode": {
    "name": "ipython",
    "version": 3
   },
   "file_extension": ".py",
   "mimetype": "text/x-python",
   "name": "python",
   "nbconvert_exporter": "python",
   "pygments_lexer": "ipython3",
   "version": "3.8.5"
  }
 },
 "nbformat": 4,
 "nbformat_minor": 5
}
