{
 "cells": [
  {
   "cell_type": "markdown",
   "id": "smoking-restaurant",
   "metadata": {},
   "source": [
    "# cleaning of the data\n",
    "\n",
    "##  import stuff"
   ]
  },
  {
   "cell_type": "code",
   "execution_count": 1,
   "id": "piano-nickel",
   "metadata": {},
   "outputs": [],
   "source": [
    "import numpy as np\n",
    "import pandas as pd\n",
    "import matplotlib.pyplot as plt"
   ]
  },
  {
   "cell_type": "markdown",
   "id": "hundred-aging",
   "metadata": {},
   "source": [
    "Here you have to give the path to the original imdb data.\n",
    "Don't forget the slash or backslash at the end."
   ]
  },
  {
   "cell_type": "code",
   "execution_count": 2,
   "id": "unlimited-berkeley",
   "metadata": {},
   "outputs": [],
   "source": [
    "original_data_path = \"/home/user/Documents/studies/master/vu - systeembio master/modules/04 Machine Learning/project/project start data/\""
   ]
  },
  {
   "cell_type": "markdown",
   "id": "prerequisite-region",
   "metadata": {},
   "source": [
    "## import raw data"
   ]
  },
  {
   "cell_type": "code",
   "execution_count": 3,
   "id": "hairy-cherry",
   "metadata": {},
   "outputs": [],
   "source": [
    "or_movies = pd.read_csv(original_data_path+'IMDb movies.csv', delimiter=\",\", low_memory=False)\n",
    "or_names = pd.read_csv(original_data_path+'IMDb names.csv', delimiter=\",\", low_memory=False)\n",
    "or_ratings = pd.read_csv(original_data_path+'IMDb ratings.csv', delimiter=\",\", low_memory=False)\n",
    "or_title_principles = pd.read_csv(original_data_path+'IMDb title_principals.csv', delimiter=\",\", low_memory=False)"
   ]
  },
  {
   "cell_type": "markdown",
   "id": "filled-conclusion",
   "metadata": {},
   "source": [
    "## calculate missing values % per column"
   ]
  },
  {
   "cell_type": "markdown",
   "id": "advisory-township",
   "metadata": {},
   "source": [
    "### or_movies"
   ]
  },
  {
   "cell_type": "code",
   "execution_count": 20,
   "id": "editorial-campbell",
   "metadata": {},
   "outputs": [
    {
     "data": {
      "text/plain": [
       "imdb_title_id             0.000000\n",
       "title                     0.000000\n",
       "original_title            0.000000\n",
       "year                      0.000000\n",
       "date_published            0.000000\n",
       "genre                     0.000000\n",
       "duration                  0.000000\n",
       "country                   0.074544\n",
       "language                  0.970241\n",
       "director                  0.101334\n",
       "writer                    1.830994\n",
       "production_company        5.188981\n",
       "actors                    0.080368\n",
       "description               2.463456\n",
       "avg_vote                  0.000000\n",
       "votes                     0.000000\n",
       "budget                   72.383670\n",
       "usa_gross_income         82.148972\n",
       "worlwide_gross_income    63.873974\n",
       "metascore                84.502941\n",
       "reviews_from_users        8.848640\n",
       "reviews_from_critics     13.740609\n",
       "dtype: float64"
      ]
     },
     "execution_count": 20,
     "metadata": {},
     "output_type": "execute_result"
    },
    {
     "data": {
      "image/png": "[encoded data removed]",
      "text/plain": [
       "<Figure size 432x288 with 1 Axes>"
      ]
     },
     "metadata": {
      "needs_background": "light"
     },
     "output_type": "display_data"
    }
   ],
   "source": [
    "na_counts = or_movies.isna().sum() / len(or_movies) * 100\n",
    "fig = plt.figure()\n",
    "ax = fig.add_axes([0,0,1,1]) # ???\n",
    "ax.bar(or_movies.columns,na_counts)\n",
    "na_counts"
   ]
  },
  {
   "cell_type": "markdown",
   "id": "alpine-italian",
   "metadata": {},
   "source": [
    "### or_names"
   ]
  },
  {
   "cell_type": "code",
   "execution_count": 28,
   "id": "aggressive-lease",
   "metadata": {},
   "outputs": [
    {
     "data": {
      "text/plain": [
       "imdb_name_id              0.000000\n",
       "name                      0.000000\n",
       "birth_name                0.000000\n",
       "height                   84.991518\n",
       "bio                      31.241330\n",
       "birth_details            62.845098\n",
       "date_of_birth            62.845098\n",
       "place_of_birth           65.068776\n",
       "death_details            86.586386\n",
       "date_of_death            86.586386\n",
       "place_of_death           87.558825\n",
       "reason_of_death          92.377018\n",
       "spouses_string           84.766128\n",
       "spouses                   0.000000\n",
       "divorces                  0.000000\n",
       "spouses_with_children     0.000000\n",
       "children                  0.000000\n",
       "dtype: float64"
      ]
     },
     "execution_count": 28,
     "metadata": {},
     "output_type": "execute_result"
    },
    {
     "data": {
      "image/png": "[encoded data removed]",
      "text/plain": [
       "<Figure size 432x288 with 1 Axes>"
      ]
     },
     "metadata": {
      "needs_background": "light"
     },
     "output_type": "display_data"
    }
   ],
   "source": [
    "na_counts = or_names.isna().sum() / len(or_names) * 100\n",
    "fig = plt.figure()\n",
    "ax = fig.add_axes([0,0,1,1]) # ???\n",
    "ax.bar(or_names.columns,na_counts)\n",
    "na_counts"
   ]
  },
  {
   "cell_type": "markdown",
   "id": "another-spokesman",
   "metadata": {},
   "source": [
    "### or_ratings"
   ]
  },
  {
   "cell_type": "code",
   "execution_count": 30,
   "id": "interim-acoustic",
   "metadata": {},
   "outputs": [
    {
     "data": {
      "text/plain": [
       "imdb_title_id                 0.000000\n",
       "weighted_average_vote         0.000000\n",
       "total_votes                   0.000000\n",
       "mean_vote                     0.000000\n",
       "median_vote                   0.000000\n",
       "votes_10                      0.000000\n",
       "votes_9                       0.000000\n",
       "votes_8                       0.000000\n",
       "votes_7                       0.000000\n",
       "votes_6                       0.000000\n",
       "votes_5                       0.000000\n",
       "votes_4                       0.000000\n",
       "votes_3                       0.000000\n",
       "votes_2                       0.000000\n",
       "votes_1                       0.000000\n",
       "allgenders_0age_avg_vote     61.144954\n",
       "allgenders_0age_votes        61.144954\n",
       "allgenders_18age_avg_vote     0.822317\n",
       "allgenders_18age_votes        0.822317\n",
       "allgenders_30age_avg_vote     0.011648\n",
       "allgenders_30age_votes        0.011648\n",
       "allgenders_45age_avg_vote     0.093180\n",
       "allgenders_45age_votes        0.093180\n",
       "males_allages_avg_vote        0.001165\n",
       "males_allages_votes           0.001165\n",
       "males_0age_avg_vote          68.072914\n",
       "males_0age_votes             68.072914\n",
       "males_18age_avg_vote          1.706365\n",
       "males_18age_votes             1.706365\n",
       "males_30age_avg_vote          0.013977\n",
       "males_30age_votes             0.013977\n",
       "males_45age_avg_vote          0.117640\n",
       "males_45age_votes             0.117640\n",
       "females_allages_avg_vote      0.094345\n",
       "females_allages_votes         0.094345\n",
       "females_0age_avg_vote        74.239124\n",
       "females_0age_votes           74.239124\n",
       "females_18age_avg_vote        7.595364\n",
       "females_18age_votes           7.595364\n",
       "females_30age_avg_vote        1.099528\n",
       "females_30age_votes           1.099528\n",
       "females_45age_avg_vote        3.258983\n",
       "females_45age_votes           3.258983\n",
       "top1000_voters_rating         0.790868\n",
       "top1000_voters_votes          0.790868\n",
       "us_voters_rating              0.243434\n",
       "us_voters_votes               0.243434\n",
       "non_us_voters_rating          0.001165\n",
       "non_us_voters_votes           0.001165\n",
       "dtype: float64"
      ]
     },
     "execution_count": 30,
     "metadata": {},
     "output_type": "execute_result"
    },
    {
     "data": {
      "image/png": "[encoded data removed]",
      "text/plain": [
       "<Figure size 432x288 with 1 Axes>"
      ]
     },
     "metadata": {
      "needs_background": "light"
     },
     "output_type": "display_data"
    }
   ],
   "source": [
    "na_counts = or_ratings.isna().sum() / len(or_ratings) * 100\n",
    "fig = plt.figure()\n",
    "ax = fig.add_axes([0,0,1,1]) # ???\n",
    "ax.bar(or_ratings.columns,na_counts)\n",
    "na_counts"
   ]
  },
  {
   "cell_type": "markdown",
   "id": "operational-finger",
   "metadata": {},
   "source": [
    "### or_title_principles"
   ]
  },
  {
   "cell_type": "code",
   "execution_count": 32,
   "id": "literary-recognition",
   "metadata": {},
   "outputs": [
    {
     "data": {
      "text/plain": [
       "imdb_title_id     0.000000\n",
       "ordering          0.000000\n",
       "imdb_name_id      0.000000\n",
       "category          0.000000\n",
       "job              74.538876\n",
       "characters       59.206380\n",
       "dtype: float64"
      ]
     },
     "execution_count": 32,
     "metadata": {},
     "output_type": "execute_result"
    },
    {
     "data": {
      "image/png": "[encoded data removed]",
      "text/plain": [
       "<Figure size 432x288 with 1 Axes>"
      ]
     },
     "metadata": {
      "needs_background": "light"
     },
     "output_type": "display_data"
    }
   ],
   "source": [
    "na_counts = or_title_principles.isna().sum() / len(or_title_principles) * 100\n",
    "fig = plt.figure()\n",
    "ax = fig.add_axes([0,0,1,1]) # ???\n",
    "ax.bar(or_title_principles.columns,na_counts)\n",
    "na_counts"
   ]
  },
  {
   "cell_type": "code",
   "execution_count": null,
   "id": "binding-occasions",
   "metadata": {},
   "outputs": [],
   "source": []
  }
 ],
 "metadata": {
  "kernelspec": {
   "display_name": "Python 3",
   "language": "python",
   "name": "python3"
  },
  "language_info": {
   "codemirror_mode": {
    "name": "ipython",
    "version": 3
   },
   "file_extension": ".py",
   "mimetype": "text/x-python",
   "name": "python",
   "nbconvert_exporter": "python",
   "pygments_lexer": "ipython3",
   "version": "3.8.5"
  }
 },
 "nbformat": 4,
 "nbformat_minor": 5
}
