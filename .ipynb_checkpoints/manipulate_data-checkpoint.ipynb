{
 "cells": [
  {
   "cell_type": "markdown",
   "id": "smoking-restaurant",
   "metadata": {},
   "source": [
    "# cleaning of the data\n",
    "\n",
    "##  import stuff"
   ]
  },
  {
   "cell_type": "code",
   "execution_count": 11,
   "id": "piano-nickel",
   "metadata": {},
   "outputs": [],
   "source": [
    "import numpy as np\n",
    "import pandas as pd\n",
    "import matplotlib.pyplot as plt"
   ]
  },
  {
   "cell_type": "markdown",
   "id": "hundred-aging",
   "metadata": {},
   "source": [
    "Here you have to give the path to the original imdb data.\n",
    "Don't forget the slash or backslash at the end."
   ]
  },
  {
   "cell_type": "code",
   "execution_count": 13,
   "id": "unlimited-berkeley",
   "metadata": {},
   "outputs": [],
   "source": [
    "original_data_path = \"/home/user/Documents/studies/master/vu - systeembio master/modules/04 Machine Learning/project/project start data/\""
   ]
  },
  {
   "cell_type": "markdown",
   "id": "prerequisite-region",
   "metadata": {},
   "source": [
    "## import raw data"
   ]
  },
  {
   "cell_type": "code",
   "execution_count": 14,
   "id": "hairy-cherry",
   "metadata": {},
   "outputs": [],
   "source": [
    "or_movies = pd.read_csv(original_data_path+'IMDb movies.csv', delimiter=\",\", low_memory=False)\n",
    "or_names = pd.read_csv(original_data_path+'IMDb names.csv', delimiter=\",\", low_memory=False)\n",
    "or_ratings = pd.read_csv(original_data_path+'IMDb ratings.csv', delimiter=\",\", low_memory=False)\n",
    "or_title_principles = pd.read_csv(original_data_path+'IMDb title_principals.csv', delimiter=\",\", low_memory=False)"
   ]
  },
  {
   "cell_type": "markdown",
   "id": "filled-conclusion",
   "metadata": {},
   "source": [
    "## magic"
   ]
  },
  {
   "cell_type": "code",
   "execution_count": null,
   "id": "editorial-campbell",
   "metadata": {},
   "outputs": [],
   "source": []
  }
 ],
 "metadata": {
  "kernelspec": {
   "display_name": "Python 3",
   "language": "python",
   "name": "python3"
  },
  "language_info": {
   "codemirror_mode": {
    "name": "ipython",
    "version": 3
   },
   "file_extension": ".py",
   "mimetype": "text/x-python",
   "name": "python",
   "nbconvert_exporter": "python",
   "pygments_lexer": "ipython3",
   "version": "3.8.5"
  }
 },
 "nbformat": 4,
 "nbformat_minor": 5
}
